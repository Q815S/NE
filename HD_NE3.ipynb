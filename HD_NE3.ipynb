{
  "cells": [
    {
      "cell_type": "code",
      "execution_count": 1,
      "metadata": {
        "colab": {
          "base_uri": "https://localhost:8080/"
        },
        "id": "X0WcNPFZub22",
        "outputId": "351488cd-fb6d-401d-b524-64bf1d35e18e"
      },
      "outputs": [
        {
          "output_type": "stream",
          "name": "stdout",
          "text": [
            "Looking in indexes: https://pypi.org/simple, https://us-python.pkg.dev/colab-wheels/public/simple/\n",
            "Collecting gtts\n",
            "  Downloading gTTS-2.3.2-py3-none-any.whl (28 kB)\n",
            "Requirement already satisfied: requests<3,>=2.27 in /usr/local/lib/python3.10/dist-packages (from gtts) (2.27.1)\n",
            "Requirement already satisfied: click<8.2,>=7.1 in /usr/local/lib/python3.10/dist-packages (from gtts) (8.1.3)\n",
            "Requirement already satisfied: urllib3<1.27,>=1.21.1 in /usr/local/lib/python3.10/dist-packages (from requests<3,>=2.27->gtts) (1.26.15)\n",
            "Requirement already satisfied: certifi>=2017.4.17 in /usr/local/lib/python3.10/dist-packages (from requests<3,>=2.27->gtts) (2022.12.7)\n",
            "Requirement already satisfied: charset-normalizer~=2.0.0 in /usr/local/lib/python3.10/dist-packages (from requests<3,>=2.27->gtts) (2.0.12)\n",
            "Requirement already satisfied: idna<4,>=2.5 in /usr/local/lib/python3.10/dist-packages (from requests<3,>=2.27->gtts) (3.4)\n",
            "Installing collected packages: gtts\n",
            "Successfully installed gtts-2.3.2\n"
          ]
        }
      ],
      "source": [
        "pip install gtts"
      ]
    },
    {
      "cell_type": "markdown",
      "metadata": {
        "id": "rFaUZMCF0F6d"
      },
      "source": [
        "# **경고! 실행 전 토픽 빈도를 '안함'으로 변경하시오.**"
      ]
    },
    {
      "cell_type": "code",
      "execution_count": 2,
      "metadata": {
        "colab": {
          "base_uri": "https://localhost:8080/",
          "height": 110
        },
        "id": "OUHMGCtHY7UL",
        "outputId": "66db1101-f746-45c9-d660-eee01f934b45"
      },
      "outputs": [
        {
          "output_type": "stream",
          "name": "stdout",
          "text": [
            "하이\n",
            "네 안녕하세요👋\n"
          ]
        },
        {
          "output_type": "display_data",
          "data": {
            "text/plain": [
              "<IPython.lib.display.Audio object>"
            ],
            "text/html": [
              "\n",
              "                <audio  controls=\"controls\" autoplay=\"autoplay\">\n",
              "                    <source src=\"data:audio/mpeg;base64,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\" type=\"audio/mpeg\" />\n",
              "                    Your browser does not support the audio element.\n",
              "                </audio>\n",
              "              "
            ]
          },
          "metadata": {}
        }
      ],
      "source": [
        "from gtts import gTTS\n",
        "from IPython.display import Audio,display\n",
        "import requests,re\n",
        "\n",
        "url='YOUR_URL'\n",
        "authorization='YOUR_AUTHORIZATION'\n",
        "headers={'Authorization':authorization,'Content-Type':'application/json'}\n",
        "\n",
        "ip=input()\n",
        "data={'request':{'query':ip}}\n",
        "op=requests.post(url,headers=headers,json=data)\n",
        "\n",
        "for reply in op.json()['response']['replies']:\n",
        "  text=re.sub(r'[^\\w\\s]','',reply['text'])\n",
        "  tts=gTTS(text,lang='ko')\n",
        "  tts.save('reply.mp3')\n",
        "  voice=Audio('reply.mp3',autoplay=True)\n",
        "  print(reply['text']),display(voice)"
      ]
    }
  ],
  "metadata": {
    "colab": {
      "provenance": [],
      "authorship_tag": "ABX9TyNLMnkLss9pmKJivy+TcYqG"
    },
    "kernelspec": {
      "display_name": "Python 3",
      "name": "python3"
    },
    "language_info": {
      "name": "python"
    }
  },
  "nbformat": 4,
  "nbformat_minor": 0
}