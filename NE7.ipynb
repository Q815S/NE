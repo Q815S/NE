{
  "cells": [
    {
      "cell_type": "markdown",
      "metadata": {
        "id": "view-in-github",
        "colab_type": "text"
      },
      "source": [
        "<a href=\"https://colab.research.google.com/github/Q815S/NE/blob/main/NE7.ipynb\" target=\"_parent\"><img src=\"https://colab.research.google.com/assets/colab-badge.svg\" alt=\"Open In Colab\"/></a>"
      ]
    },
    {
      "cell_type": "code",
      "execution_count": null,
      "metadata": {
        "id": "nqHtHhwtDhOf"
      },
      "outputs": [],
      "source": [
        "!pip install -q -U google-generativeai\n",
        "!pip install SpeechRecognition pydub gtts\n",
        "\n",
        "import google.generativeai as genai\n",
        "import speech_recognition as sr\n",
        "import pathlib,textwrap, os, requests,re\n",
        "\n",
        "\n",
        "from IPython.display import display, Audio, display, Markdown\n",
        "from google.colab import userdata, files\n",
        "from pydub import AudioSegment\n",
        "from gtts import gTTS\n",
        "\n",
        "GOOGLE_API_KEY=userdata.get('GOOGLE_API_KEY')\n",
        "genai.configure(api_key=GOOGLE_API_KEY)\n",
        "model = genai.GenerativeModel('gemini-1.5-pro-exp-0801')"
      ]
    },
    {
      "cell_type": "code",
      "source": [
        "def to_markdown(text):\n",
        "  text = text.replace('•', '  *')\n",
        "  return Markdown(textwrap.indent(text, '> ', predicate=lambda _: True))\n",
        "\n",
        "def recognize_speech(file_path):\n",
        "  try:\n",
        "    sound = AudioSegment.from_file(file_path, format='m4a')\n",
        "    sound.export('audio.wav', format='wav')\n",
        "\n",
        "    r = sr.Recognizer()\n",
        "    with sr.AudioFile('audio.wav') as source:\n",
        "      audio = r.record(source)\n",
        "    VR = r.recognize_google(audio, language='ko')\n",
        "    return VR\n",
        "\n",
        "  except sr.UnknownValueError:\n",
        "    print(\"음성을 인식할 수 없습니다.\")\n",
        "    return None\n",
        "\n",
        "  except sr.RequestError as e:\n",
        "    print(f\"음성인식 시스템이 응답하지 않습니다. 잠시 후 다시 시도해주십시오.; {e}\")\n",
        "    return None\n",
        "\n",
        "  finally:\n",
        "    os.remove('audio.wav')"
      ],
      "metadata": {
        "id": "eIH7Ki-Knyqp"
      },
      "execution_count": 7,
      "outputs": []
    },
    {
      "cell_type": "code",
      "execution_count": null,
      "metadata": {
        "id": "Wwpu4JVVEL5m"
      },
      "outputs": [],
      "source": [
        "while True:\n",
        "  print('듣고 있어요.')\n",
        "  myfiles = files.upload()\n",
        "  VR = recognize_speech('audio.m4a')\n",
        "\n",
        "  if VR:\n",
        "    response = model.generate_content(VR)\n",
        "    tts = gTTS(text=response.text, lang='ko')\n",
        "    tts.save('reply.mp3')\n",
        "    voice = Audio('reply.mp3', autoplay=True)\n",
        "    print('인식된 음성:',VR)\n",
        "    markdown_text = to_markdown(response.text)\n",
        "    display(voice)\n",
        "    display(markdown_text)\n",
        "    os.remove('audio.m4a')\n",
        "\n",
        "  if VR == '고마워 잘가':\n",
        "    print(\"안녕히 가세요!\")\n",
        "    break"
      ]
    }
  ],
  "metadata": {
    "colab": {
      "provenance": [],
      "authorship_tag": "ABX9TyMtjS80W+lvdiI9cR6A2Koy",
      "include_colab_link": true
    },
    "kernelspec": {
      "display_name": "Python 3",
      "name": "python3"
    },
    "language_info": {
      "name": "python"
    }
  },
  "nbformat": 4,
  "nbformat_minor": 0
}