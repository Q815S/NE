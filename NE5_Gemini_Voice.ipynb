{
  "cells": [
    {
      "cell_type": "markdown",
      "metadata": {
        "id": "view-in-github",
        "colab_type": "text"
      },
      "source": [
        "<a href=\"https://colab.research.google.com/github/Q815S/NE/blob/main/NE5_Gemini_Voice.ipynb\" target=\"_parent\"><img src=\"https://colab.research.google.com/assets/colab-badge.svg\" alt=\"Open In Colab\"/></a>"
      ]
    },
    {
      "cell_type": "code",
      "execution_count": 2,
      "metadata": {
        "id": "nqHtHhwtDhOf",
        "colab": {
          "base_uri": "https://localhost:8080/"
        },
        "outputId": "cf629935-4340-45c3-8cc4-6a01faf1c4cc"
      },
      "outputs": [
        {
          "output_type": "stream",
          "name": "stdout",
          "text": [
            "Collecting SpeechRecognition\n",
            "  Downloading SpeechRecognition-3.10.4-py2.py3-none-any.whl.metadata (28 kB)\n",
            "Collecting pydub\n",
            "  Downloading pydub-0.25.1-py2.py3-none-any.whl.metadata (1.4 kB)\n",
            "Requirement already satisfied: requests>=2.26.0 in /usr/local/lib/python3.10/dist-packages (from SpeechRecognition) (2.31.0)\n",
            "Requirement already satisfied: typing-extensions in /usr/local/lib/python3.10/dist-packages (from SpeechRecognition) (4.12.2)\n",
            "Requirement already satisfied: charset-normalizer<4,>=2 in /usr/local/lib/python3.10/dist-packages (from requests>=2.26.0->SpeechRecognition) (3.3.2)\n",
            "Requirement already satisfied: idna<4,>=2.5 in /usr/local/lib/python3.10/dist-packages (from requests>=2.26.0->SpeechRecognition) (3.7)\n",
            "Requirement already satisfied: urllib3<3,>=1.21.1 in /usr/local/lib/python3.10/dist-packages (from requests>=2.26.0->SpeechRecognition) (2.0.7)\n",
            "Requirement already satisfied: certifi>=2017.4.17 in /usr/local/lib/python3.10/dist-packages (from requests>=2.26.0->SpeechRecognition) (2024.7.4)\n",
            "Downloading SpeechRecognition-3.10.4-py2.py3-none-any.whl (32.8 MB)\n",
            "\u001b[2K   \u001b[90m━━━━━━━━━━━━━━━━━━━━━━━━━━━━━━━━━━━━━━━━\u001b[0m \u001b[32m32.8/32.8 MB\u001b[0m \u001b[31m28.9 MB/s\u001b[0m eta \u001b[36m0:00:00\u001b[0m\n",
            "\u001b[?25hDownloading pydub-0.25.1-py2.py3-none-any.whl (32 kB)\n",
            "Installing collected packages: pydub, SpeechRecognition\n",
            "Successfully installed SpeechRecognition-3.10.4 pydub-0.25.1\n"
          ]
        }
      ],
      "source": [
        "!pip install -q -U google-generativeai\n",
        "!pip install SpeechRecognition pydub\n",
        "\n",
        "import google.generativeai as genai\n",
        "import speech_recognition as sr\n",
        "from pydub import AudioSegment\n",
        "import pathlib,textwrap, os, requests,re\n",
        "\n",
        "\n",
        "from IPython.display import display\n",
        "from IPython.display import Markdown\n",
        "from google.colab import userdata\n",
        "from google.colab import files\n",
        "\n",
        "def to_markdown(text):\n",
        "  text = text.replace('•', '  *')\n",
        "  return Markdown(textwrap.indent(text, '> ', predicate=lambda _: True))\n",
        "\n",
        "GOOGLE_API_KEY=userdata.get('GOOGLE_API_KEY')\n",
        "genai.configure(api_key=GOOGLE_API_KEY)\n",
        "\n",
        "model = genai.GenerativeModel('gemini-1.5-pro-exp-0801')"
      ]
    },
    {
      "cell_type": "code",
      "execution_count": null,
      "metadata": {
        "id": "Wwpu4JVVEL5m"
      },
      "outputs": [],
      "source": [
        "def recognize_speech(file_path):\n",
        "  try:\n",
        "    sound = AudioSegment.from_file(file_path, format='m4a')\n",
        "    sound.export('audio.wav', format='wav')\n",
        "\n",
        "    r = sr.Recognizer()\n",
        "    with sr.AudioFile('audio.wav') as source:\n",
        "      audio = r.record(source)\n",
        "    VR = r.recognize_google(audio, language='ko')\n",
        "    return VR\n",
        "\n",
        "  except sr.UnknownValueError:\n",
        "    print(\"음성을 인식할 수 없습니다.\")\n",
        "    return None\n",
        "\n",
        "  except sr.RequestError as e:\n",
        "    print(f\"Could not request results from Google Speech Recognition service; {e}\")\n",
        "    return None\n",
        "\n",
        "  finally:\n",
        "    os.remove('audio.wav')\n",
        "\n",
        "print('듣고 있어요.')\n",
        "\n",
        "while True:\n",
        "  myfiles = files.upload()\n",
        "  VR = recognize_speech('audio.m4a')\n",
        "  if VR:\n",
        "    response = model.generate_content(VR)\n",
        "    markdown_text = to_markdown(response.text)\n",
        "    display(markdown_text)\n",
        "    os.remove('audio.m4a')\n",
        "\n",
        "  if VR == '고마워 잘가':\n",
        "    print(\"안녕히 가세요!\")\n",
        "    break"
      ]
    }
  ],
  "metadata": {
    "colab": {
      "provenance": [],
      "authorship_tag": "ABX9TyNmpShp2sE+WobZnkxTfXa8",
      "include_colab_link": true
    },
    "kernelspec": {
      "display_name": "Python 3",
      "name": "python3"
    },
    "language_info": {
      "name": "python"
    }
  },
  "nbformat": 4,
  "nbformat_minor": 0
}