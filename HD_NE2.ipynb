{
  "nbformat": 4,
  "nbformat_minor": 0,
  "metadata": {
    "colab": {
      "provenance": [],
      "authorship_tag": "ABX9TyOl/wfSliomsFLkJbFJrqNp",
      "include_colab_link": true
    },
    "kernelspec": {
      "name": "python3",
      "display_name": "Python 3"
    },
    "language_info": {
      "name": "python"
    }
  },
  "cells": [
    {
      "cell_type": "markdown",
      "metadata": {
        "id": "view-in-github",
        "colab_type": "text"
      },
      "source": [
        "<a href=\"https://colab.research.google.com/github/R910N/Project-NE/blob/main/HD_NE2.ipynb\" target=\"_parent\"><img src=\"https://colab.research.google.com/assets/colab-badge.svg\" alt=\"Open In Colab\"/></a>"
      ]
    },
    {
      "cell_type": "code",
      "source": [
        "import requests\n",
        "\n",
        "url=\"YOUR_URL\"\n",
        "authorization=\"YOUR_AUTHORIZATION\"\n",
        "headers={\"Authorization\":authorization,\"Content-Type\":\"application/json\"}\n",
        "\n",
        "query=input()\n",
        "data={\"request\": {\"query\": query}}\n",
        "response=requests.post(url, headers=headers, json=data)\n",
        "\n",
        "for reply in response.json()[\"response\"][\"replies\"]:\n",
        "    if reply[\"type\"]==\"text\":\n",
        "        print(reply[\"text\"])"
      ],
      "metadata": {
        "colab": {
          "base_uri": "https://localhost:8080/"
        },
        "id": "J_GaCZpeDduW",
        "outputId": "b1014645-e833-4501-b239-75fb45d1cfd3"
      },
      "execution_count": null,
      "outputs": [
        {
          "output_type": "stream",
          "name": "stdout",
          "text": [
            "안녕\n",
            "하이! 헬로! 안녕하세요👋\n"
          ]
        }
      ]
    }
  ]
}