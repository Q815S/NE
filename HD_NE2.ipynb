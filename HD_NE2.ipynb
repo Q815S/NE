{
  "nbformat": 4,
  "nbformat_minor": 0,
  "metadata": {
    "colab": {
      "provenance": [],
      "authorship_tag": "ABX9TyNvgK1VTfayTCREkpb59tbn"
    },
    "kernelspec": {
      "name": "python3",
      "display_name": "Python 3"
    },
    "language_info": {
      "name": "python"
    }
  },
  "cells": [
    {
      "cell_type": "code",
      "source": [
        "import requests\n",
        "\n",
        "url=\"YOUR_URL\"\n",
        "authorization=\"YOUR_AUTHORIZATION\"\n",
        "headers={\"Authorization\":authorization,\"Content-Type\":\"application/json\"}\n",
        "\n",
        "query=input()\n",
        "data={\"request\": {\"query\": query}}\n",
        "response=requests.post(url, headers=headers, json=data)\n",
        "\n",
        "for reply in response.json()[\"response\"][\"replies\"]:\n",
        "  print(reply[\"text\"])"
      ],
      "metadata": {
        "id": "J_GaCZpeDduW"
      },
      "execution_count": null,
      "outputs": []
    }
  ]
}